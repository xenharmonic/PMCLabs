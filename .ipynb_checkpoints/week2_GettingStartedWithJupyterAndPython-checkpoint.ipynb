{
 "cells": [
  {
   "cell_type": "markdown",
   "metadata": {},
   "source": [
    "# Lab 11: Getting started with Python, Sound, and Visualisation\n",
    "\n",
    "### 15 January 2015\n",
    "<br>\n",
    "<font color=\"red\">Please install the lab bundle and complete at least parts 0 and 1 of this lab before 22 January. Being familiar with Jupyter Notebook and the small amount of Python syntax here will be crucial for doing more interesting work this term.</font>\n",
    "\n",
    "This notebook covers generating and visualising sound signals in Python.  It also acts as an introduction to the [Jupyter Notebook](https://jupyter.org/) interactive environment, and to the [Python](http://www.python.org/) programming language and its accompanying libraries.\n",
    "\n",
    "# 0. Getting ready for Python & Jupyter\n",
    "\n",
    "1. Make sure you have installed Anaconda and the <a href=\"https://learn.gold.ac.uk/mod/resource/view.php?id=482074\"> PMC lab bundle</a> by following the <a href=\"https://learn.gold.ac.uk/mod/resource/view.php?id=482072\">setup instructions</a> and <a href=\"https://learn.gold.ac.uk/mod/resource/view.php?id=482073\">optional video</a> from learn.gold.\n",
    "\n",
    "2. Make sure you've downloaded this notebook and are running it in Jupyter Notebook within your web browser (by running \"jupyter notebook\" at a command prompt and then dragging this file into your notebook workspace).\n",
    "\n",
    "3. Please start by watching the video at https://www.youtube.com/watch?v=lmoNmY-cmSI&list=PLRJx8WOUx5Xd3_dgw5xRmABUd8MWdsA_C. \n",
    "\n",
    "4. Then, choose \"Help\" in the top menu and select \"User interface tour.\" This should be enough to get you started.\n",
    "\n",
    "5. Beyond this, here are the <b>most important tips</b>:\n",
    "<ul><li>To execute code in a cell, press Shift+Enter</li>\n",
    "<li>You'll need to re-execute a cell using Shift+Enter if you later edit the cell</li>\n",
    "<li>You don't need to end your lines of code with semi-colons;</li>\n",
    "<li>To get help on a function name, just type the name followed by a ?, like sin?</li>\n",
    "<li>You can auto-complete function names by typing the beginning of the function and hitting tab</li>\n",
    "<li>The [Python tutorial](https://docs.python.org/2.7/tutorial/index.html) is a good reference for common syntax (e.g., for-loops, if statements). \n",
    "</ul>"
   ]
  },
  {
   "cell_type": "markdown",
   "metadata": {},
   "source": [
    "\n",
    "# Part 1. Introduction to Python and Jupyter\n",
    "\n",
    "In this section, we’ll verify that the Python environment is correctly set up.  Firstly, to check that the system will execute Python code at all, make sure that the next cell is selected (it should have a green rectangle around it; if it doesn’t, use the cursor keys) and then run it (by holding the ‘Shift’ key and hitting ‘Return’ – `S-RET` for short – or by selecting ‘Run and Select Below’ from the ‘Cell’ menu)."
   ]
  },
  {
   "cell_type": "code",
   "execution_count": null,
   "metadata": {
    "collapsed": true
   },
   "outputs": [],
   "source": [
    "# Python’s \"Hello World\":\n",
    "print \"Hello, World\""
   ]
  },
  {
   "cell_type": "markdown",
   "metadata": {},
   "source": [
    "Doing that should have made Python display the string `Hello, World`.  If it did not, please contact a member of lab staff as soon as possible.  On the other hand, we hope that it did successfully execute.  Once it does, look at the following cell, and try to predict what will happen when it is run.  Execute it, and see whether your predictions were right, and if you understand any cases where the output is different from your prediction."
   ]
  },
  {
   "cell_type": "code",
   "execution_count": null,
   "metadata": {
    "collapsed": true
   },
   "outputs": [],
   "source": [
    "# Python’s basic arithmetic:\n",
    "print \"1 + 1 =\", 1 + 1\n",
    "print \"2 - 3 =\", 2 - 3\n",
    "print \"4 * 5 =\", 4 * 5\n",
    "print \"6 / 7 =\", 6 / 7\n",
    "print\n",
    "print \"3 + 3 * 3 =\", 3 + 3 * 3\n",
    "print \"(3 + 3) * 3 =\", (3 + 3) * 3\n",
    "print \"2 ** 3 =\", 2 ** 3"
   ]
  },
  {
   "cell_type": "markdown",
   "metadata": {},
   "source": [
    "The Python language, as many others, supports giving names to values.  Unlike most of the languages that you have been exposed to so far in your modules, Python variables are untyped; they do not need a type declaration (no need for `int x` or similar).  What do you think the following cell prints?"
   ]
  },
  {
   "cell_type": "code",
   "execution_count": null,
   "metadata": {
    "collapsed": true
   },
   "outputs": [],
   "source": [
    "# Python’s handling of variables:\n",
    "x = 3\n",
    "x = x * 2\n",
    "print \"x + 1 =\", x + 1"
   ]
  },
  {
   "cell_type": "markdown",
   "metadata": {},
   "source": [
    "Take a look at the [Python tutorial](https://docs.python.org/2.7/tutorial/index.html) to see the syntax for if statements, for statements, and the range function. Then complete the following exercises:\n",
    "\n",
    "Edit the cell below so that it prints \"Five\" if x is 5, \"Three\" if x is 3, and \"Neither\" otherwise."
   ]
  },
  {
   "cell_type": "code",
   "execution_count": null,
   "metadata": {
    "collapsed": true
   },
   "outputs": [],
   "source": [
    "x = 3\n",
    "print ???\n"
   ]
  },
  {
   "cell_type": "markdown",
   "metadata": {},
   "source": [
    "In the cell below, write a for-loop that prints the numbers from 1 to 20 in ascending order:"
   ]
  },
  {
   "cell_type": "code",
   "execution_count": null,
   "metadata": {
    "collapsed": true
   },
   "outputs": [],
   "source": [
    "#Write your for-loop here"
   ]
  },
  {
   "cell_type": "markdown",
   "metadata": {},
   "source": [
    "# Part 2. Introduction to Scipy\n",
    "\n",
    "[Scipy](http://www.scipy.org/) is a collection of Python tools for maths, science and engineering; it provides libraries for numerical computation (including on vectors and arrays, which will be useful for the rest of the Perception & Multimedia Computing module) and for visualisation (plotting graphs, which will be particularly useful in understanding phenomena related to sound, which are otherwise hard to conceptualise).  We'll be using the `pylab` bundle of software, which in particular includes the `plot` command with inline graphics. \n",
    "\n",
    "Conveniently, the configuration files you installed from the lab bundle have already told your Jupyter Notebook to use pylab, so it's time to get started!\n",
    "\n",
    "**Run the code examples below to get started with Scipy:**"
   ]
  },
  {
   "cell_type": "markdown",
   "metadata": {},
   "source": [
    "Python allows us to do *vectorised computation*, which means that we can perform operations on lists of variables (or arrays) instead of just one element at a time. For instance, note how the following code allows you to add elements of two lists, without using a for-loop:"
   ]
  },
  {
   "cell_type": "code",
   "execution_count": null,
   "metadata": {
    "collapsed": true
   },
   "outputs": [],
   "source": [
    "a = [1,2,3] # a is just a list of numbers. You can't do fancy vectorised stuff directly with lists alone\n",
    "b = array([1,2,3]) # b is an array. You make an array by giving a list to an array constructor function\n",
    "c = 10 * b #now c is 10, 20, 30: Multiplication of each element without an array!"
   ]
  },
  {
   "cell_type": "code",
   "execution_count": null,
   "metadata": {
    "collapsed": true
   },
   "outputs": [],
   "source": [
    "d = array([1,2,3])\n",
    "e = array([100, 200, 300])\n",
    "d + e #We can also do arithmetic operations on two arrays, such as adding each element"
   ]
  },
  {
   "cell_type": "markdown",
   "metadata": {},
   "source": [
    "With `pylab` we can plot simple line graphs of lists or arrays using `plot(x,y)`:"
   ]
  },
  {
   "cell_type": "code",
   "execution_count": null,
   "metadata": {
    "collapsed": true
   },
   "outputs": [],
   "source": [
    "plot([1,2,3],[4,6,5]) #[1,2,3] are x values of 3 points, [4,6,5] are y values of the same 3 points"
   ]
  },
  {
   "cell_type": "markdown",
   "metadata": {},
   "source": [
    "Multiple `plot` commands in one cell give superposed graphs:"
   ]
  },
  {
   "cell_type": "code",
   "execution_count": null,
   "metadata": {
    "collapsed": true
   },
   "outputs": [],
   "source": [
    "plot([1,2,3],[4,6,5])\n",
    "plot([1,4],[2,7])"
   ]
  },
  {
   "cell_type": "markdown",
   "metadata": {},
   "source": [
    "Other commands can be used to give the graph a more polished finish:"
   ]
  },
  {
   "cell_type": "code",
   "execution_count": null,
   "metadata": {
    "collapsed": true
   },
   "outputs": [],
   "source": [
    "plot([1,2,3],[4,6,5])\n",
    "xlabel(\"x-axis label\")\n",
    "ylabel(\"y-axis label\")\n",
    "title(\"Graph title\")\n",
    "grid(True)"
   ]
  },
  {
   "cell_type": "markdown",
   "metadata": {},
   "source": [
    "For now, we won’t need much of the complicated functionality of `plot`, which can be used to produce production-quality graphics; instead, we’ll concentrate on using it to give quick visualisations of numerical data, which we’ll be using to represent signals.  For example, we can visualise a sine wave:"
   ]
  },
  {
   "cell_type": "code",
   "execution_count": null,
   "metadata": {
    "collapsed": true
   },
   "outputs": [],
   "source": [
    "# arange(start, end, step) returns an array with elements going from start to end by step.\n",
    "t = arange(0, 2, 0.01)\n",
    "\n",
    "# sin here takes the sine of *each* array element of its argument.  The multiplications are also vectorised.\n",
    "# in other words, after this command, s[i] will be equal to sin(2*pi*t[i]) for each index i\n",
    "s = sin(2*pi*t)\n",
    "\n",
    "plot(t, s) #puts t on the x-axis and s on the y-axis\n",
    "xlabel(\"t\")\n",
    "ylabel(\"sin(2$\\pi$t)\")"
   ]
  },
  {
   "cell_type": "markdown",
   "metadata": {},
   "source": [
    "# Part 3. Introduction to creating and visualising sound signals"
   ]
  },
  {
   "cell_type": "markdown",
   "metadata": {},
   "source": [
    "## Generating a signal: A step-by-step explanation\n",
    "\n",
    "We'll be working with standard (CD-quality) audio, so let's define a symbolic constant `samplerate` to store our sample rate of 44.1kHz. Let's also make a `duration` variable to store the duration of our new sound, in seconds."
   ]
  },
  {
   "cell_type": "code",
   "execution_count": null,
   "metadata": {
    "collapsed": true
   },
   "outputs": [],
   "source": [
    "samplerate = 44100 # Creates a new variable. Notice no need to declare samplerate or its type!\n",
    "duration = 3 # Creates another new variable"
   ]
  },
  {
   "cell_type": "markdown",
   "metadata": {},
   "source": [
    "Now let's make an array to hold all relevant time values, one every $\\frac{1}{44100}$ seconds, from 0 to 3. <b>Press Shift+Enter on the cell below to execute the code creating this array:</b>"
   ]
  },
  {
   "cell_type": "code",
   "execution_count": null,
   "metadata": {},
   "outputs": [],
   "source": [
    "# the function np.arange will give us an array of \n",
    "# values starting at 0 and going up to (but not including) duration, with a spacing of 1/samplerate\n",
    "t = arange(0, duration, 1/samplerate)\n",
    "t # this will print a summary of our array t to the screen"
   ]
  },
  {
   "cell_type": "markdown",
   "metadata": {},
   "source": [
    "At this point we, can optionally examine `t` using functions like `size(t)` or `plot(t)` or `max(t)`. Play with these functions below:"
   ]
  },
  {
   "cell_type": "code",
   "execution_count": null,
   "metadata": {},
   "outputs": [],
   "source": [
    "max(t)"
   ]
  },
  {
   "cell_type": "markdown",
   "metadata": {},
   "source": [
    "Then, using the general expression for a sinusoidal signal $$x = A\\times\\sin{\\left(2\\pi f t + \\phi\\right)}$$\n",
    "we can generate a 440Hz sinewave with amplitude one half by using the `sin` built-in function, to compute $$x_{440} = \\frac{1}{2}\\times\\sin{\\left(2\\times\\pi\\times 440\\times t\\right)}$$\n",
    "\n",
    "The following code will result in `x440` being an array the same length as `t`, and each element of `x440` will be the value of the sinusoid at the time corresponding to the same element of `t`\n",
    "\n",
    "<b>Press Shift+Enter to execute:</b>"
   ]
  },
  {
   "cell_type": "code",
   "execution_count": null,
   "metadata": {},
   "outputs": [],
   "source": [
    "# a sine wave at 440Hz, with amplitude 0.5\n",
    "x440 = 0.5*sin(2*pi*440*t)\n",
    "x440 #this will print out a summary of the variable x440"
   ]
  },
  {
   "cell_type": "markdown",
   "metadata": {},
   "source": [
    "## Visualising and playing\n",
    "\n",
    "Now $x_{440}$ represents our sampled signal.  We can plot it using the `plot` command, and play it by using our `wavWrite` and `wavPlayer` utility functions from earlier.  Executing the following cells *should* give a sinusoidal graph, and an HTML control allowing you to play 3 seconds' worth of 440Hz ‘concert A’ sine wave."
   ]
  },
  {
   "cell_type": "code",
   "execution_count": null,
   "metadata": {},
   "outputs": [],
   "source": [
    "#plot with the first 1000 elements of t on the x-axis, and the first 1000 elements of x440 on the y-axis\n",
    "plot(t[0:1000], x440[0:1000]) "
   ]
  },
  {
   "cell_type": "code",
   "execution_count": null,
   "metadata": {},
   "outputs": [],
   "source": [
    "play(x440) #it's alive!!!"
   ]
  },
  {
   "cell_type": "markdown",
   "metadata": {},
   "source": [
    "# Part 4. Having fun with sound\n",
    "\n",
    "Explore the use of sines in the following tasks, using plotting and the `play()` function:\n",
    "    \n",
    "i. Change the frequency and amplitude of the sine wave and listen to how it changes. \n",
    "\n",
    "* What is the lowest-frequency sine wave you can hear? The highest?\n",
    "\n",
    "* Can you find two sines of the same gain but different frequencies, where one clearly sounds louder than the other? (Recall the Fletcher Munson curves from last week's lecture)\n",
    "\n",
    "** Tip: Remember that the \"rule of thumb\" is that humans can hear between 20Hz and 20,000Hz. Keep the amplitude between 0 and 1, unless you like danger.\n",
    "\n",
    "\n",
    "\n",
    "\n"
   ]
  },
  {
   "cell_type": "code",
   "execution_count": null,
   "metadata": {},
   "outputs": [],
   "source": []
  },
  {
   "cell_type": "markdown",
   "metadata": {},
   "source": [
    "ii. Add two or three sine waves together to play them at the same time (like a chord). For example, if `s1`, `s2`, and `s3` are all sines at different frequencies, you can add them together like `s4 = s1 + s2 + s3`. \n",
    "\n",
    "* Tip #1: Make sure that the overall gain of your wave still stays less than 1. For example, if `s1`, `s2`, and `s3` all range from -1 to +1, then you might want to adjust the equation above to be `s4 = 0.33*(s1 + s2 + s3)`\n",
    "* Tip #2: Try starting with 440Hz, 277.18Hz, and 329.63Hz.\n",
    "* Can you make other chords that sound musical? (You might want to use http://www.sengpielaudio.com/calculator-notenames.htm to look up frequencies that correspond to different notes of the Western scale)\n",
    "* What happens when you add frequences that are very close together (e.g., 440Hz and 441Hz)?\n",
    "* What happens when you add frequencies that are all multiples of a single \"fundamental\" frequency? (e.g., `440`, `2*440`, `3*440`, `4*400`, ...)\n",
    "\n"
   ]
  },
  {
   "cell_type": "code",
   "execution_count": null,
   "metadata": {},
   "outputs": [],
   "source": []
  },
  {
   "cell_type": "markdown",
   "metadata": {},
   "source": [
    "iii. Play one sine wave immediately after another by concatenating their arrays. If `s1` and `s2` are sine waves, you can concatenate them using the syntax `s3 = np.concatenate([s1, s2])`."
   ]
  },
  {
   "cell_type": "code",
   "execution_count": null,
   "metadata": {
    "collapsed": true
   },
   "outputs": [],
   "source": []
  },
  {
   "cell_type": "markdown",
   "metadata": {},
   "source": [
    "iv. Try creating a simple melody and/or chord sequence. \n",
    "\n",
    "If you make sounds you like, you can save them to a .WAV file using the syntax `wavWrite(\"myFilename.wav\", data)` where `data` is the array holding your sound."
   ]
  },
  {
   "cell_type": "code",
   "execution_count": null,
   "metadata": {
    "collapsed": true
   },
   "outputs": [],
   "source": []
  }
 ],
 "metadata": {
  "kernelspec": {
   "display_name": "Python 2",
   "language": "python",
   "name": "python2"
  },
  "language_info": {
   "codemirror_mode": {
    "name": "ipython",
    "version": 2
   },
   "file_extension": ".py",
   "mimetype": "text/x-python",
   "name": "python",
   "nbconvert_exporter": "python",
   "pygments_lexer": "ipython2",
   "version": "2.7.14"
  }
 },
 "nbformat": 4,
 "nbformat_minor": 1
}
